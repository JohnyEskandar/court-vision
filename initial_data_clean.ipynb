{
 "cells": [
  {
   "cell_type": "markdown",
   "id": "f729b75b",
   "metadata": {},
   "source": [
    "# Libraries"
   ]
  },
  {
   "cell_type": "code",
   "execution_count": 10,
   "id": "2e6a620a",
   "metadata": {},
   "outputs": [],
   "source": [
    "import requests\n",
    "import pandas as pd\n",
    "from datetime import datetime\n",
    "import numpy as np\n",
    "import matplotlib.pyplot as plt"
   ]
  },
  {
   "cell_type": "markdown",
   "id": "bd9ee44e",
   "metadata": {},
   "source": [
    "# API Key Generation and API URL Declaration"
   ]
  },
  {
   "cell_type": "code",
   "execution_count": null,
   "id": "90b064e1",
   "metadata": {},
   "outputs": [],
   "source": [
    "#API KEY\n",
    "api_key = \"Your API KEY HERE\"\n",
    "\n",
    "#API URL\n",
    "api_url = \"https://api.the-odds-api.com/v4/sports\"\n",
    "\n",
    "#Parameters\n",
    "params = {\"apiKey\": api_key}\n",
    "\n",
    "#Use requests to Query API\n",
    "response = requests.get(api_url, params=params)"
   ]
  },
  {
   "cell_type": "markdown",
   "id": "f74f0f5a",
   "metadata": {},
   "source": [
    "# Connect To API and Display Sports"
   ]
  },
  {
   "cell_type": "code",
   "execution_count": 12,
   "id": "5ff8347b",
   "metadata": {},
   "outputs": [
    {
     "name": "stdout",
     "output_type": "stream",
     "text": [
      "API Connected\n",
      "\n",
      "Available Sports:\n",
      "[1] NCAAF\n",
      "[2] NCAAF Championship Winner\n",
      "[3] NFL Super Bowl Winner\n",
      "[4] UFL\n",
      "[5] AFL\n",
      "[6] KBO\n",
      "[7] MiLB\n",
      "[8] MLB\n",
      "[9] MLB World Series Winner\n",
      "[10] NCAA Baseball\n",
      "[11] NPB\n",
      "[12] Basketball Euroleague\n",
      "[13] NBA\n",
      "[14] NBA Championship Winner\n",
      "[15] Boxing\n",
      "[16] International Twenty20\n",
      "[17] IPL\n",
      "[18] Pakistan Super League\n",
      "[19] PGA Championship Winner\n",
      "[20] The Open Winner\n",
      "[21] US Open Winner\n",
      "[22] AHL\n",
      "[23] Liiga\n",
      "[24] NHL\n",
      "[25] NHL Championship Winner\n",
      "[26] HockeyAllsvenskan\n",
      "[27] SHL\n",
      "[28] NCAA Lacrosse\n",
      "[29] MMA\n",
      "[30] US Presidential Elections Winner\n",
      "[31] NRL\n",
      "[32] Primera División - Argentina\n",
      "[33] A-League\n",
      "[34] Austrian Football Bundesliga\n",
      "[35] Belgium First Div\n",
      "[36] Brazil Série A\n",
      "[37] Brazil Série B\n",
      "[38] Primera División - Chile\n",
      "[39] Super League - China\n",
      "[40] Copa Libertadores\n",
      "[41] Copa Sudamericana\n",
      "[42] Denmark Superliga\n",
      "[43] Championship\n",
      "[44] League 1\n",
      "[45] League 2\n",
      "[46] EPL\n",
      "[47] FA Cup\n",
      "[48] FIFA World Cup Winner\n",
      "[49] Veikkausliiga - Finland\n",
      "[50] Ligue 1 - France\n",
      "[51] Ligue 2 - France\n",
      "[52] Bundesliga - Germany\n",
      "[53] Bundesliga 2 - Germany\n",
      "[54] 3. Liga - Germany\n",
      "[55] Super League - Greece\n",
      "[56] Serie A - Italy\n",
      "[57] Serie B - Italy\n",
      "[58] J League\n",
      "[59] K League 1\n",
      "[60] League of Ireland\n",
      "[61] Liga MX\n",
      "[62] Dutch Eredivisie\n",
      "[63] Eliteserien - Norway\n",
      "[64] Ekstraklasa - Poland\n",
      "[65] Primeira Liga - Portugal\n",
      "[66] La Liga - Spain\n",
      "[67] La Liga 2 - Spain\n",
      "[68] Premiership - Scotland\n",
      "[69] Allsvenskan - Sweden\n",
      "[70] Superettan - Sweden\n",
      "[71] Turkey Super League\n",
      "[72] UEFA Champions League\n",
      "[73] UEFA Champions League Women\n",
      "[74] UEFA Europa Conference League\n",
      "[75] UEFA Europa League\n",
      "[76] UEFA Nations League\n",
      "[77] MLS\n",
      "[78] ATP Madrid Open\n",
      "[79] WTA Madrid Open\n"
     ]
    }
   ],
   "source": [
    "#Print API Status\n",
    "if response.status_code == 200:\n",
    "    sports_list = response.json()\n",
    "    print(\"API Connected\")\n",
    "else:\n",
    "    print(\"Failed to Connect:\", response.status_code)\n",
    "    sports_list = []\n",
    "\n",
    "# Prints all available sports and indexes for users to choose from\n",
    "print(\"\\nAvailable Sports:\")\n",
    "for i, sport in enumerate(sports_list):\n",
    "    print(f\"[{i + 1}] {sport['title']}\")"
   ]
  },
  {
   "cell_type": "markdown",
   "id": "ef9a3921",
   "metadata": {},
   "source": [
    "# Sport Selection"
   ]
  },
  {
   "cell_type": "code",
   "execution_count": 13,
   "id": "a0602bf9",
   "metadata": {},
   "outputs": [
    {
     "name": "stdout",
     "output_type": "stream",
     "text": [
      "\n",
      "Enter the number of the sport you want to analyze: 13\n",
      "\n",
      "You selected: NBA\n"
     ]
    }
   ],
   "source": [
    "selected_sport = int(input(\"\\nEnter the number of the sport you want to analyze: \")) - 1\n",
    "sport_key = sports_list[selected_sport]['key']\n",
    "print(f\"\\nYou selected: {sports_list[selected_sport]['title']}\")\n"
   ]
  },
  {
   "cell_type": "markdown",
   "id": "ca12bf73",
   "metadata": {},
   "source": [
    "# Region and Attributes that We are Analyzing"
   ]
  },
  {
   "cell_type": "code",
   "execution_count": 14,
   "id": "65ed2206",
   "metadata": {},
   "outputs": [],
   "source": [
    "region = \"us\"\n",
    "markets = \"spreads,h2h,totals\""
   ]
  },
  {
   "cell_type": "markdown",
   "id": "d44337d4",
   "metadata": {},
   "source": [
    "# Fetching Data for Spreads, Head to Head, and Totals\n",
    "### These are the Only Free Metrics from our API"
   ]
  },
  {
   "cell_type": "code",
   "execution_count": 15,
   "id": "129f91d9",
   "metadata": {},
   "outputs": [],
   "source": [
    "url = f\"https://api.the-odds-api.com/v4/sports/{sport_key}/odds\"\n",
    "params = {\n",
    "    \"apiKey\": api_key,\n",
    "    \"regions\": region,\n",
    "    \"markets\": markets,\n",
    "    \"oddsFormat\": \"american\"\n",
    "}\n",
    "response = requests.get(url, params=params)\n",
    "data = response.json()\n"
   ]
  },
  {
   "cell_type": "markdown",
   "id": "fc59d75d",
   "metadata": {},
   "source": [
    "### Fetching All Market Data Within Data"
   ]
  },
  {
   "cell_type": "code",
   "execution_count": 16,
   "id": "382a1e33",
   "metadata": {},
   "outputs": [
    {
     "name": "stdout",
     "output_type": "stream",
     "text": [
      "API Error or unexpected response:\n",
      "{'message': 'Usage quota has been reached. See usage plans at https://the-odds-api.com', 'error_code': 'OUT_OF_USAGE_CREDITS', 'details_url': 'https://the-odds-api.com/liveapi/guides/v4/api-error-codes.html#out-of-usage-credits'}\n"
     ]
    }
   ],
   "source": [
    "if isinstance(data, list):\n",
    "    market_types = {\n",
    "        market[\"key\"]\n",
    "        for match in data\n",
    "        for site in match.get(\"bookmakers\", [])\n",
    "        for market in site.get(\"markets\", [])\n",
    "    }\n",
    "    \n",
    "    if market_types:\n",
    "        print(\"Market Types Found in Data\")\n",
    "        print(sorted(market_types))\n",
    "    else:\n",
    "        print(\"No market types found in the data.\")\n",
    "else:\n",
    "    print(\"API Error or unexpected response:\")\n",
    "    print(data)\n"
   ]
  },
  {
   "cell_type": "markdown",
   "id": "ba8eaeb7",
   "metadata": {},
   "source": [
    "# Raw Data"
   ]
  },
  {
   "cell_type": "code",
   "execution_count": 17,
   "id": "d2765b9e",
   "metadata": {},
   "outputs": [
    {
     "name": "stdout",
     "output_type": "stream",
     "text": [
      "Raw Data\n",
      " {'message': 'Usage quota has been reached. See usage plans at https://the-odds-api.com', 'error_code': 'OUT_OF_USAGE_CREDITS', 'details_url': 'https://the-odds-api.com/liveapi/guides/v4/api-error-codes.html#out-of-usage-credits'}\n"
     ]
    }
   ],
   "source": [
    "print(\"Raw Data\\n\",data)"
   ]
  },
  {
   "cell_type": "markdown",
   "id": "d90187e2",
   "metadata": {},
   "source": [
    "# Data Cleaning"
   ]
  },
  {
   "cell_type": "code",
   "execution_count": 18,
   "id": "2b1b1fcd",
   "metadata": {},
   "outputs": [
    {
     "ename": "TypeError",
     "evalue": "string indices must be integers, not 'str'",
     "output_type": "error",
     "traceback": [
      "\u001b[1;31m---------------------------------------------------------------------------\u001b[0m",
      "\u001b[1;31mTypeError\u001b[0m                                 Traceback (most recent call last)",
      "Cell \u001b[1;32mIn[18], line 3\u001b[0m\n\u001b[0;32m      1\u001b[0m df_clean \u001b[38;5;241m=\u001b[39m []\n\u001b[0;32m      2\u001b[0m \u001b[38;5;28;01mfor\u001b[39;00m match \u001b[38;5;129;01min\u001b[39;00m data:\n\u001b[1;32m----> 3\u001b[0m     game_time \u001b[38;5;241m=\u001b[39m datetime\u001b[38;5;241m.\u001b[39mfromisoformat(match[\u001b[38;5;124m\"\u001b[39m\u001b[38;5;124mcommence_time\u001b[39m\u001b[38;5;124m\"\u001b[39m]\u001b[38;5;241m.\u001b[39mreplace(\u001b[38;5;124m\"\u001b[39m\u001b[38;5;124mZ\u001b[39m\u001b[38;5;124m\"\u001b[39m, \u001b[38;5;124m\"\u001b[39m\u001b[38;5;124m+00:00\u001b[39m\u001b[38;5;124m\"\u001b[39m))\n\u001b[0;32m      4\u001b[0m     home \u001b[38;5;241m=\u001b[39m match[\u001b[38;5;124m\"\u001b[39m\u001b[38;5;124mhome_team\u001b[39m\u001b[38;5;124m\"\u001b[39m]\n\u001b[0;32m      5\u001b[0m     away \u001b[38;5;241m=\u001b[39m match[\u001b[38;5;124m\"\u001b[39m\u001b[38;5;124maway_team\u001b[39m\u001b[38;5;124m\"\u001b[39m]\n",
      "\u001b[1;31mTypeError\u001b[0m: string indices must be integers, not 'str'"
     ]
    }
   ],
   "source": [
    "df_clean = []\n",
    "for match in data:\n",
    "    game_time = datetime.fromisoformat(match[\"commence_time\"].replace(\"Z\", \"+00:00\"))\n",
    "    home = match[\"home_team\"]\n",
    "    away = match[\"away_team\"]\n",
    "    for site in match.get(\"bookmakers\", []):\n",
    "        book = site[\"title\"]\n",
    "        for market in site.get(\"markets\", []):\n",
    "            for outcome in market[\"outcomes\"]:\n",
    "                attributes = {\n",
    "                    \"time\": game_time,\n",
    "                    \"home_team\": home,\n",
    "                    \"away_team\": away,\n",
    "                    \"matchup\": f\"{away} @ {home}\",\n",
    "                    \"market\": market[\"key\"],\n",
    "                    \"sportsbook\": book,\n",
    "                    \"team\": outcome[\"name\"],\n",
    "                    \"odds\": outcome[\"price\"]\n",
    "                }\n",
    "                if \"point\" in outcome:\n",
    "                    attributes[\"point\"] = outcome[\"point\"]\n",
    "                df_clean.append(attributes)"
   ]
  },
  {
   "cell_type": "markdown",
   "id": "aba5ec94",
   "metadata": {},
   "source": [
    "# Data Entry Statistics"
   ]
  },
  {
   "cell_type": "code",
   "execution_count": null,
   "id": "82f862d0",
   "metadata": {},
   "outputs": [],
   "source": [
    "print(\"Loaded\", len(df_clean), \"entries\")\n",
    "final= pd.DataFrame(df_clean)\n",
    "final.head()"
   ]
  },
  {
   "cell_type": "markdown",
   "id": "a6f9bc74",
   "metadata": {},
   "source": [
    "# Metric Creation\n"
   ]
  },
  {
   "cell_type": "markdown",
   "id": "31ae478b",
   "metadata": {},
   "source": [
    "## Different Metrics We Created\n",
    "###### 1. Win Score: Weights both the Spread as well as Spread Probability equally to predict a Winner\n",
    "###### 2. Implied Win Probability: Which team is likely to Win According to the Book"
   ]
  },
  {
   "cell_type": "markdown",
   "id": "f063a73c",
   "metadata": {},
   "source": [
    "##### Creating a Spread Score"
   ]
  },
  {
   "cell_type": "code",
   "execution_count": null,
   "id": "399f769c",
   "metadata": {},
   "outputs": [],
   "source": [
    "spreads = final[final[\"market\"] == \"spreads\"].copy()\n",
    "spreads[\"spread_score\"] = -spreads[\"point\"]"
   ]
  },
  {
   "cell_type": "markdown",
   "id": "af3c2675",
   "metadata": {},
   "source": [
    "##### Spread Odds of Converting"
   ]
  },
  {
   "cell_type": "code",
   "execution_count": null,
   "id": "b1afd70a-6b65-4101-b858-0e7eee944b15",
   "metadata": {},
   "outputs": [],
   "source": [
    "# Step 1: Define the odds converter again (just in case it's not already defined)\n",
    "def converted_odds(odds):\n",
    "    return 100 / (odds + 100) if odds > 0 else -odds / (-odds + 100)\n",
    "\n",
    "# Step 2: Prepare head-to-head (moneyline) data\n",
    "h2h = final[final['market'] == 'h2h'].copy()\n",
    "h2h[\"win_probability\"] = h2h[\"odds\"].apply(converted_odds)\n",
    "\n",
    "# Step 3: Prepare spreads data and make sure win_score is there\n",
    "spreads = final[final[\"market\"] == \"spreads\"].copy()\n",
    "spreads[\"spread_score\"] = -spreads[\"point\"]\n",
    "spreads[\"prob\"] = spreads[\"odds\"].apply(converted_odds)\n",
    "spreads[\"win_score\"] = 0.5 * spreads[\"spread_score\"] + 0.5 * spreads[\"prob\"]\n",
    "\n",
    "# Step 4: Merge h2h and spread data on team name\n",
    "value_df = h2h.merge(\n",
    "    spreads[[\"team\", \"win_score\"]],\n",
    "    on=\"team\",\n",
    "    how=\"left\"\n",
    ")\n",
    "\n",
    "# Step 5: Calculate value score = model's win_score - book's implied win probability\n",
    "value_df[\"value_score\"] = value_df[\"win_score\"] - value_df[\"win_probability\"]\n",
    "\n",
    "# Keep the highest value_score per team\n",
    "best_value_bets = value_df.loc[\n",
    "    value_df.groupby(\"team\")[\"value_score\"].idxmax()\n",
    "].reset_index(drop=True)\n",
    "\n",
    "# Optional: Filter for non-heavy favorites\n",
    "best_value_bets = best_value_bets[best_value_bets[\"odds\"] > -200]\n",
    "\n",
    "# Sort for best bets\n",
    "best_value_bets = best_value_bets.sort_values(by=\"value_score\", ascending=False)\n",
    "\n",
    "# Display with matchup and date info\n",
    "display(best_value_bets[[\"team\", \"matchup\", \"date\", \"odds\", \"win_probability\", \"win_score\", \"value_score\"]].head(10))\n"
   ]
  },
  {
   "cell_type": "code",
   "execution_count": null,
   "id": "3b49a504",
   "metadata": {},
   "outputs": [],
   "source": [
    "def converted_odds(odds):\n",
    "    return 100 / (odds + 100) if odds > 0 else -odds / (-odds + 100)\n",
    "\n",
    "spreads[\"prob\"] = spreads[\"odds\"].apply(converted_odds)"
   ]
  },
  {
   "cell_type": "markdown",
   "id": "ba47c109",
   "metadata": {},
   "source": [
    "##### Win Score: Creates a Score that Weights the Spread Score and Spread Odds Equally"
   ]
  },
  {
   "cell_type": "code",
   "execution_count": null,
   "id": "f8ca7bf5",
   "metadata": {},
   "outputs": [],
   "source": [
    "spreads[\"win_score\"] = 0.5 * spreads[\"spread_score\"] + 0.5 * spreads[\"prob\"]"
   ]
  },
  {
   "cell_type": "markdown",
   "id": "d9e8a995",
   "metadata": {},
   "source": [
    "##### Win Probability Creation"
   ]
  },
  {
   "cell_type": "code",
   "execution_count": null,
   "id": "3b06dbd6",
   "metadata": {},
   "outputs": [],
   "source": [
    "h2h = final[final['market'] == 'h2h'].copy()\n",
    "h2h[\"win_probability\"] = h2h[\"odds\"].apply(converted_odds)"
   ]
  },
  {
   "cell_type": "markdown",
   "id": "783dd457",
   "metadata": {},
   "source": [
    "##### Visualizing Sportsbook Bias Based on Totals"
   ]
  },
  {
   "cell_type": "code",
   "execution_count": null,
   "id": "4be9c723",
   "metadata": {},
   "outputs": [],
   "source": [
    "totals = final[final[\"market\"] == \"totals\"].copy()\n",
    "totals[\"probability\"] = totals[\"odds\"].apply(converted_odds)\n",
    "\n",
    "pivot = totals.pivot_table(index=[\"matchup\", \"sportsbook\", \"point\"],\n",
    "                           columns=\"team\", values=\"probability\").reset_index()\n",
    "\n",
    "pivot[\"public_bias\"] = pivot.get(\"Over\", np.nan) - pivot.get(\"Under\", np.nan)\n",
    "\n",
    "bias = pivot.dropna(subset=[\"public_bias\"])\n"
   ]
  },
  {
   "cell_type": "code",
   "execution_count": null,
   "id": "88926570-c277-4ac7-8544-f6d52e5ac0f3",
   "metadata": {},
   "outputs": [],
   "source": [
    "value_df = h2h.merge(\n",
    "    spreads[[\"team\", \"win_score\"]], \n",
    "    on=\"team\", \n",
    "    how=\"left\"\n",
    ")\n",
    "# Value = Model probability (win_score) - Implied probability from sportsbook\n",
    "value_df[\"value_score\"] = value_df[\"win_score\"] - value_df[\"win_probability\"]\n",
    "\n",
    "# Filter top 10 most underpriced teams\n",
    "top_value_bets = value_df.sort_values(by=\"value_score\", ascending=False).head(10)\n",
    "\n",
    "# Optional: Only include odds where the payout is worthwhile\n",
    "top_value_bets = top_value_bets[top_value_bets[\"odds\"] > -200]"
   ]
  },
  {
   "cell_type": "markdown",
   "id": "2e9b0944",
   "metadata": {},
   "source": [
    "# Visualizations"
   ]
  },
  {
   "cell_type": "markdown",
   "id": "211d3d14",
   "metadata": {},
   "source": [
    "##### Predicting Winners Based off of Win Score "
   ]
  },
  {
   "cell_type": "code",
   "execution_count": null,
   "id": "874c9444",
   "metadata": {},
   "outputs": [],
   "source": [
    "\n",
    "grouped = spreads.groupby([\"matchup\", \"team\"]).agg({\"win_score\": \"mean\"}).reset_index()\n",
    "\n",
    "for matchup, metrics in grouped.groupby(\"matchup\"):\n",
    "    if len(metrics) != 2:\n",
    "        continue\n",
    "    teams = metrics[\"team\"].values\n",
    "    scores = metrics[\"win_score\"].values\n",
    "    winner = teams[np.argmax(scores)]\n",
    "\n",
    "    colors = [\"red\", \"red\"]\n",
    "    colors[np.argmax(scores)] = \"green\"\n",
    "\n",
    "    x = np.arange(2)\n",
    "    bars = plt.bar(x, scores, color=colors)\n",
    "    for i, bar in enumerate(bars):\n",
    "        plt.text(bar.get_x() + bar.get_width()/2, bar.get_height() + 0.05,\n",
    "                 f\"{scores[i]:.2f}\", ha=\"center\")\n",
    "    plt.xticks(x, teams)\n",
    "    plt.title(f\"{matchup}\\nPredicted Winner: {winner}\")\n",
    "    plt.ylabel(\"Win Score\")\n",
    "    plt.tight_layout()\n",
    "    plt.show()\n"
   ]
  },
  {
   "cell_type": "markdown",
   "id": "415e9f4a",
   "metadata": {},
   "source": [
    "### Predicting Winners based on Win Probability"
   ]
  },
  {
   "cell_type": "code",
   "execution_count": null,
   "id": "89590eba",
   "metadata": {},
   "outputs": [],
   "source": [
    "if not h2h.empty:\n",
    "    h2h_avg = h2h.groupby([\"matchup\", \"team\"])[\"win_probability\"].mean().reset_index()\n",
    "    for matchup, metrics in h2h_avg.groupby(\"matchup\"):\n",
    "        if len(metrics) != 2:\n",
    "            continue\n",
    "        teams = metrics[\"team\"].values\n",
    "        probs = metrics[\"win_probability\"].values\n",
    "        probs = probs/ probs.sum()\n",
    "\n",
    "        x = np.arange(2)\n",
    "        bars = plt.bar(x, probs, color=\"skyblue\")\n",
    "        for i, bar in enumerate(bars):\n",
    "            plt.text(bar.get_x() + bar.get_width()/2, bar.get_height() + 0.01,\n",
    "                     f\"{probs[i]*100:.1f}%\", ha=\"center\")\n",
    "        plt.xticks(x, teams)\n",
    "        plt.title(f\"{matchup} — H2H Win Probabilities\")\n",
    "        plt.ylabel(\"Probability\")\n",
    "        plt.tight_layout()\n",
    "        plt.show()\n"
   ]
  },
  {
   "cell_type": "markdown",
   "id": "63b20b50",
   "metadata": {},
   "source": [
    "### Plotting Book Bias"
   ]
  },
  {
   "cell_type": "code",
   "execution_count": null,
   "id": "9cf2b83b",
   "metadata": {
    "scrolled": true
   },
   "outputs": [],
   "source": [
    "book_bias = bias.groupby(\"sportsbook\")[\"public_bias\"].mean().sort_values()\n",
    "\n",
    "plt.figure(figsize=(8,5))\n",
    "book_bias.plot(kind=\"barh\", color=\"salmon\", edgecolor=\"black\")\n",
    "plt.axvline(0, linestyle=\"--\", color=\"black\")\n",
    "plt.title(\"Book Bias (Over vs Under)\")\n",
    "plt.xlabel(\"Bias\")\n",
    "plt.ylabel(\"Sportsbook\")\n",
    "plt.grid(axis=\"x\", linestyle=\"--\", alpha=0.5)\n",
    "plt.tight_layout()\n",
    "plt.show()"
   ]
  }
 ],
 "metadata": {
  "kernelspec": {
   "display_name": "Python 3 (ipykernel)",
   "language": "python",
   "name": "python3"
  },
  "language_info": {
   "codemirror_mode": {
    "name": "ipython",
    "version": 3
   },
   "file_extension": ".py",
   "mimetype": "text/x-python",
   "name": "python",
   "nbconvert_exporter": "python",
   "pygments_lexer": "ipython3",
   "version": "3.11.5"
  }
 },
 "nbformat": 4,
 "nbformat_minor": 5
}
