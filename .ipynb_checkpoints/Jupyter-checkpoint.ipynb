{
 "cells": [
  {
   "cell_type": "code",
   "execution_count": null,
   "id": "d6785b5a",
   "metadata": {},
   "outputs": [],
   "source": [
    "import requests\n",
    "import pandas as pd\n",
    "from datetime import datetime\n",
    "import numpy as np\n",
    "import matplotlib.pyplot as plt"
   ]
  },
  {
   "cell_type": "code",
   "execution_count": null,
   "id": "6f61d9ec",
   "metadata": {},
   "outputs": [],
   "source": [
    "# Initial API Key for access\n",
    "key = \"78aac9217e5b16253e383fb61661f079\""
   ]
  },
  {
   "cell_type": "code",
   "execution_count": null,
   "id": "ca82eb4d",
   "metadata": {},
   "outputs": [],
   "source": [
    "#Fetches available sports from the Odds-API\n",
    "url = \"https://api.the-odds-api.com/v4/sports\"\n",
    "params = {\n",
    "    \"apiKey\": key\n",
    "}"
   ]
  },
  {
   "cell_type": "code",
   "execution_count": null,
   "id": "6bfc0d50",
   "metadata": {},
   "outputs": [],
   "source": [
    "#List of all sporting event/games on a given day\n",
    "response = requests.get(url, params=params)\n",
    "sports_data = response.json()"
   ]
  },
  {
   "cell_type": "code",
   "execution_count": null,
   "id": "3b45c19a",
   "metadata": {},
   "outputs": [],
   "source": [
    "# Key name for all sports\n",
    "print(\"Basketball Key\")\n",
    "for sport in sports_data:\n",
    "    print(f\"{sport['title']} Key: {sport['key']}\")"
   ]
  },
  {
   "cell_type": "code",
   "execution_count": null,
   "id": "5fcdb974",
   "metadata": {},
   "outputs": [],
   "source": [
    "#Filter by Sport\n",
    "SPORT = \"basketball_nba\"  \n",
    "REGION = \"us\""
   ]
  },
  {
   "cell_type": "code",
   "execution_count": null,
   "id": "6a3114b7",
   "metadata": {},
   "outputs": [],
   "source": [
    "#Since we are interested in spreads, we can utilize this metric\n",
    "MARKET = \"spreads\""
   ]
  },
  {
   "cell_type": "code",
   "execution_count": null,
   "id": "2db5285d",
   "metadata": {},
   "outputs": [],
   "source": [
    "# Initial API Call to get odds for the selected sport\n",
    "url = f\"https://api.the-odds-api.com/v4/sports/{SPORT}/odds\"\n",
    "params = {\n",
    "    \"apiKey\": key,\n",
    "    \"regions\": REGION,\n",
    "    \"markets\": MARKET,\n",
    "    \"oddsFormat\": \"american\"\n",
    "}"
   ]
  },
  {
   "cell_type": "code",
   "execution_count": null,
   "id": "75726105",
   "metadata": {},
   "outputs": [],
   "source": [
    "# Fetch odds data\n",
    "response = requests.get(url, params=params)\n",
    "data = response.json()"
   ]
  },
  {
   "cell_type": "code",
   "execution_count": null,
   "id": "41af9c6a",
   "metadata": {},
   "outputs": [],
   "source": [
    "# Data Cleaning\n",
    "cleansed = []"
   ]
  },
  {
   "cell_type": "code",
   "execution_count": null,
   "id": "e1b5cf87",
   "metadata": {},
   "outputs": [],
   "source": [
    "for match in data:\n",
    "    time = datetime.fromisoformat(match[\"commence_time\"].replace(\"Z\", \"+00:00\"))\n",
    "    home = match[\"home_team\"]\n",
    "    away = match[\"away_team\"]\n",
    "\n",
    "    for site in match[\"bookmakers\"]:\n",
    "        book = site[\"title\"]\n",
    "        \n",
    "        for market in site[\"markets\"]:\n",
    "            if market[\"key\"] != MARKET:\n",
    "                continue\n",
    "\n",
    "            for outcome in market[\"outcomes\"]:\n",
    "                cleansed.append({\n",
    "                    \"tip-off\": time,\n",
    "                    \"home_team\": home,\n",
    "                    \"away_team\": away,\n",
    "                    \"sportsbook\": book,\n",
    "                    \"team\": outcome[\"name\"],\n",
    "                    \"spread\": outcome[\"point\"],\n",
    "                    \"odds\": outcome[\"price\"]\n",
    "                })"
   ]
  },
  {
   "cell_type": "code",
   "execution_count": null,
   "id": "77aa49c5",
   "metadata": {},
   "outputs": [],
   "source": [
    "#Stores all of the data from the Cleansed Data\n",
    "api_data = pd.DataFrame(cleansed)"
   ]
  },
  {
   "cell_type": "code",
   "execution_count": null,
   "id": "1abbf95a",
   "metadata": {},
   "outputs": [],
   "source": [
    "# Sort properly\n",
    "api_data = api_data.sort_values(by=\"tip-off\").reset_index(drop=True)\n",
    "#print(api_data)"
   ]
  },
  {
   "cell_type": "code",
   "execution_count": null,
   "id": "21324dbb",
   "metadata": {
    "lines_to_end_of_cell_marker": 2
   },
   "outputs": [],
   "source": [
    "#Creates Matchup Column for Each Game\n",
    "api_data[\"matchup\"] = api_data[\"away_team\"] + \" @ \" + api_data[\"home_team\"]\n",
    "\n",
    "#Calculate Win Probability\n",
    "def implied_prob(odds):\n",
    "    return 100 / (odds + 100) if odds > 0 else -odds / (-odds + 100)\n",
    "\n",
    "api_data[\"implied_prob\"] = api_data[\"odds\"].apply(implied_prob)\n",
    "\n",
    "#Spread Score (Higher Negative Values = More Favorite)\n",
    "api_data[\"spread_score\"] = -api_data[\"spread\"]\n",
    "\n",
    "#Win Score based off of spread and probability\n",
    "api_data[\"win_score\"] = 0.5 * api_data[\"spread_score\"] + 0.5 * api_data[\"implied_prob\"]\n",
    "\n",
    "#Average Scores across all sportsbooks\n",
    "avg_scores = api_data.groupby([\"matchup\", \"team\", \"home_team\", \"away_team\"]).agg({\n",
    "    \"spread\": \"mean\",\n",
    "    \"odds\": \"mean\",\n",
    "    \"implied_prob\": \"mean\",\n",
    "    \"spread_score\": \"mean\",\n",
    "    \"win_score\": \"mean\"\n",
    "}).reset_index()\n",
    "\n",
    "# Pick winner per matchup using averaged win scores\n",
    "predictions = (\n",
    "    avg_scores.loc[avg_scores.groupby(\"matchup\")[\"win_score\"].idxmax()]\n",
    "    .rename(columns={\"team\": \"predicted_winner\"})\n",
    "    .sort_values(by=\"matchup\")\n",
    "    .reset_index(drop=True)\n",
    ")"
   ]
  },
  {
   "cell_type": "code",
   "execution_count": null,
   "id": "db48eb47",
   "metadata": {
    "lines_to_next_cell": 2
   },
   "outputs": [],
   "source": [
    "for matchup, subset in avg_scores.groupby(\"matchup\"):\n",
    "    if len(subset) < 2:\n",
    "        continue\n",
    "\n",
    "    teams = subset[\"team\"].tolist()\n",
    "    scores = subset[\"win_score\"].tolist()\n",
    "    winner_index = np.argmax(scores)\n",
    "\n",
    "    x = np.arange(len(teams))\n",
    "    colors = [\"gray\"] * len(scores)\n",
    "    colors[winner_index] = \"seagreen\"\n",
    "\n",
    "    plt.figure(figsize=(7, 5))\n",
    "    bars = plt.bar(x, scores, width=0.4, color=colors, edgecolor=\"black\")\n",
    "\n",
    "    for i, bar in enumerate(bars):\n",
    "        offset = 0.05 if scores[i] >= 0 else -0.1\n",
    "        plt.text(bar.get_x() + bar.get_width()/2, bar.get_height() + offset, f\"{scores[i]:.2f}\", ha=\"center\", fontsize=10)\n",
    "\n",
    "    plt.xticks(x, teams)\n",
    "    plt.ylim(min(min(scores), 0) - 1, max(scores) + 1)\n",
    "    plt.title(f\"Matchup: {matchup}\\nProjected Winner: {teams[winner_index]}\")\n",
    "    plt.ylabel(\"Win Score\")\n",
    "    plt.axhline(0, color='black', linewidth=0.8)\n",
    "    plt.grid(axis='y', linestyle='--', alpha=0.4)\n",
    "    plt.tight_layout()\n",
    "    plt.show()"
   ]
  },
  {
   "cell_type": "code",
   "execution_count": null,
   "id": "8e301f43",
   "metadata": {},
   "outputs": [],
   "source": [
    "#Odds Per Sportsbook\n",
    "avg_odds = api_data.groupby(\"sportsbook\")[\"odds\"].mean().sort_values()\n",
    "avg_odds.plot(kind=\"barh\", color=\"mediumseagreen\", edgecolor=\"black\")\n",
    "plt.title(\"Average Odds per Sportsbook\")\n",
    "plt.xlabel(\"Average Odds\")\n",
    "plt.ylabel(\"Sportsbook\")\n",
    "plt.grid(axis='x', linestyle='--', alpha=0.6)\n",
    "plt.tight_layout()\n",
    "plt.show()"
   ]
  }
 ],
 "metadata": {
  "jupytext": {
   "cell_metadata_filter": "-all",
   "notebook_metadata_filter": "-all"
  },
  "kernelspec": {
   "display_name": "Python 3 (ipykernel)",
   "language": "python",
   "name": "python3"
  },
  "language_info": {
   "codemirror_mode": {
    "name": "ipython",
    "version": 3
   },
   "file_extension": ".py",
   "mimetype": "text/x-python",
   "name": "python",
   "nbconvert_exporter": "python",
   "pygments_lexer": "ipython3",
   "version": "3.11.5"
  }
 },
 "nbformat": 4,
 "nbformat_minor": 5
}
